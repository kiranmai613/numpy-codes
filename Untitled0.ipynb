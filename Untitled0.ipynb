{
  "nbformat": 4,
  "nbformat_minor": 0,
  "metadata": {
    "colab": {
      "provenance": [],
      "authorship_tag": "ABX9TyNwVvYHLSiCU5OJBGPZWh/w",
      "include_colab_link": true
    },
    "kernelspec": {
      "name": "python3",
      "display_name": "Python 3"
    },
    "language_info": {
      "name": "python"
    }
  },
  "cells": [
    {
      "cell_type": "markdown",
      "metadata": {
        "id": "view-in-github",
        "colab_type": "text"
      },
      "source": [
        "<a href=\"https://colab.research.google.com/github/kiranmai613/numpy-codes/blob/main/Untitled0.ipynb\" target=\"_parent\"><img src=\"https://colab.research.google.com/assets/colab-badge.svg\" alt=\"Open In Colab\"/></a>"
      ]
    },
    {
      "cell_type": "code",
      "source": [
        "import numpy as np\n",
        "\n",
        "vector = np.arange(10, 50)\n",
        "\n",
        "print(vector)\n"
      ],
      "metadata": {
        "colab": {
          "base_uri": "https://localhost:8080/"
        },
        "id": "g3axJWCPRAE1",
        "outputId": "3a566deb-5104-4113-a050-30868d1ff11c"
      },
      "execution_count": 3,
      "outputs": [
        {
          "output_type": "stream",
          "name": "stdout",
          "text": [
            "[10 11 12 13 14 15 16 17 18 19 20 21 22 23 24 25 26 27 28 29 30 31 32 33\n",
            " 34 35 36 37 38 39 40 41 42 43 44 45 46 47 48 49]\n"
          ]
        }
      ]
    },
    {
      "cell_type": "code",
      "source": [
        "import numpy as np\n",
        "\n",
        "null_vector = np.zeros(10)\n",
        "null_vector[4] = 1\n",
        "\n",
        "print(null_vector)\n"
      ],
      "metadata": {
        "colab": {
          "base_uri": "https://localhost:8080/"
        },
        "id": "u81SNqXsRZvj",
        "outputId": "3e1ecc84-9617-488d-bcfa-f924dcde1493"
      },
      "execution_count": 4,
      "outputs": [
        {
          "output_type": "stream",
          "name": "stdout",
          "text": [
            "[0. 0. 0. 0. 1. 0. 0. 0. 0. 0.]\n"
          ]
        }
      ]
    },
    {
      "cell_type": "code",
      "source": [
        "import numpy as np\n",
        "\n",
        "matrix = np.arange(0, 9).reshape(3, 3)\n",
        "\n",
        "print(matrix)\n"
      ],
      "metadata": {
        "colab": {
          "base_uri": "https://localhost:8080/"
        },
        "id": "KXhUUOzuRdPh",
        "outputId": "9e678adc-bd98-4b02-d55c-edfcab51fbfd"
      },
      "execution_count": 5,
      "outputs": [
        {
          "output_type": "stream",
          "name": "stdout",
          "text": [
            "[[0 1 2]\n",
            " [3 4 5]\n",
            " [6 7 8]]\n"
          ]
        }
      ]
    },
    {
      "cell_type": "code",
      "source": [
        "import numpy as np\n",
        "\n",
        "arr = np.array([1, 2, 0, 0, 4, 0])\n",
        "non_zero_indices = np.nonzero(arr)\n",
        "\n",
        "print(non_zero_indices)\n"
      ],
      "metadata": {
        "colab": {
          "base_uri": "https://localhost:8080/"
        },
        "id": "BXLs5wO8Rz9s",
        "outputId": "02638333-d2c8-4261-ed5e-bbb56f150a5a"
      },
      "execution_count": 6,
      "outputs": [
        {
          "output_type": "stream",
          "name": "stdout",
          "text": [
            "(array([0, 1, 4]),)\n"
          ]
        }
      ]
    },
    {
      "cell_type": "code",
      "source": [
        "import numpy as np\n",
        "\n",
        "# Create a 10x10 array with random values\n",
        "array = np.random.rand(10, 10)\n",
        "\n",
        "# Find the minimum and maximum values\n",
        "min_value = np.min(array)\n",
        "max_value = np.max(array)\n",
        "\n",
        "# Print the array, minimum value, and maximum value\n",
        "print(\"Array:\\n\", array)\n",
        "print(\"Minimum value:\", min_value)\n",
        "print(\"Maximum value:\", max_value)\n"
      ],
      "metadata": {
        "colab": {
          "base_uri": "https://localhost:8080/"
        },
        "id": "CsongQt2Sajv",
        "outputId": "4a8fa7a4-64f3-4114-8570-336409d5000a"
      },
      "execution_count": 7,
      "outputs": [
        {
          "output_type": "stream",
          "name": "stdout",
          "text": [
            "Array:\n",
            " [[0.85818133 0.18398669 0.36260581 0.99470267 0.09489075 0.0668132\n",
            "  0.38284168 0.69030227 0.29897436 0.69796207]\n",
            " [0.56006955 0.48977008 0.5000821  0.69886751 0.91597236 0.08467411\n",
            "  0.70867651 0.44770906 0.50001603 0.60605778]\n",
            " [0.59043594 0.44656092 0.70077307 0.23861388 0.20635945 0.58507433\n",
            "  0.02170604 0.99225893 0.8369311  0.05836239]\n",
            " [0.3995374  0.47778232 0.08924015 0.10592652 0.49647766 0.25428247\n",
            "  0.55154108 0.01414423 0.62873595 0.18239071]\n",
            " [0.05914686 0.01601718 0.92490569 0.61621922 0.50521887 0.20719339\n",
            "  0.61341024 0.46354316 0.91393202 0.75156084]\n",
            " [0.01460622 0.29905663 0.03838364 0.93336889 0.50087744 0.94981593\n",
            "  0.87947868 0.65135861 0.91536928 0.23409059]\n",
            " [0.96266275 0.50656896 0.64309772 0.50586274 0.66169745 0.31251201\n",
            "  0.39733993 0.8354714  0.82494492 0.23412912]\n",
            " [0.36905081 0.30212145 0.90650393 0.05235856 0.59415376 0.86592108\n",
            "  0.21355713 0.92970399 0.8978618  0.60298299]\n",
            " [0.40506432 0.39036354 0.14641625 0.0889128  0.31955393 0.75288452\n",
            "  0.77762518 0.90090558 0.83486132 0.32377908]\n",
            " [0.61179166 0.59751115 0.20588356 0.36221971 0.77961382 0.3499089\n",
            "  0.98246911 0.50785289 0.57466326 0.63294108]]\n",
            "Minimum value: 0.014144230198624874\n",
            "Maximum value: 0.9947026651249248\n"
          ]
        }
      ]
    },
    {
      "cell_type": "code",
      "source": [
        "import numpy as np\n",
        "\n",
        "# Create a random vector of size 30\n",
        "vector = np.random.rand(30)\n",
        "\n",
        "# Find the mean value\n",
        "mean_value = np.mean(vector)\n",
        "\n",
        "# Print the vector and mean value\n",
        "print(\"Vector:\", vector)\n",
        "print(\"Mean value:\", mean_value)\n"
      ],
      "metadata": {
        "id": "VPuFzs93S86t",
        "outputId": "14dd8a74-9c9a-41e3-8620-c9dbde520687",
        "colab": {
          "base_uri": "https://localhost:8080/"
        }
      },
      "execution_count": 8,
      "outputs": [
        {
          "output_type": "stream",
          "name": "stdout",
          "text": [
            "Vector: [0.56178353 0.00838385 0.76121105 0.24214179 0.7811996  0.22624767\n",
            " 0.50023931 0.30958004 0.56439092 0.39384486 0.53410377 0.63842835\n",
            " 0.46880663 0.54863352 0.96890346 0.21734859 0.96993102 0.75470458\n",
            " 0.88009647 0.06788444 0.81629572 0.25016368 0.94483086 0.96117297\n",
            " 0.1008333  0.37265985 0.54219228 0.75994599 0.16206051 0.98728539]\n",
            "Mean value: 0.5431767994597241\n"
          ]
        }
      ]
    }
  ]
}